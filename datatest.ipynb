{
 "cells": [
  {
   "cell_type": "code",
   "execution_count": 11,
   "id": "2be3c412-d9d6-450e-b3fe-d6757f1237f8",
   "metadata": {},
   "outputs": [
    {
     "name": "stdout",
     "output_type": "stream",
     "text": [
      "Index(['A', 'B', 'C', 'D', 'E'], dtype='object')\n"
     ]
    }
   ],
   "source": [
    "import pandas as pd\n",
    "\n",
    "# Create a sample DataFrame\n",
    "df_score = pd.read_csv('EORBT.csv') \n",
    "\n",
    "\n",
    "# Create a mapping dictionary\n",
    "num_to_let = {\n",
    "    1: 'A',\n",
    "    2: 'B',\n",
    "    3: 'C',\n",
    "    4: 'D', \n",
    "    5: 'E'}\n",
    "\n",
    "# Map the 'city' column to a new 'state' column\n",
    "df_score['Adj Tier Let'] = df_score['Adj Tier'].map(num_to_let)\n",
    "\n",
    "from pandas.api.types import CategoricalDtype\n",
    "\n",
    "cat_type = CategoricalDtype(categories=['A', 'B', 'C', 'D', 'E'], ordered=False)\n",
    "df_score['Adj Tier Let'] = df_score['Adj Tier Let'].astype(cat_type)\n",
    "print(df_score['Adj Tier Let'].cat.categories)"
   ]
  },
  {
   "cell_type": "code",
   "execution_count": null,
   "id": "e7e269f2-98ab-49d8-a3cb-8bf2c2b49ab5",
   "metadata": {},
   "outputs": [],
   "source": []
  }
 ],
 "metadata": {
  "kernelspec": {
   "display_name": "Python 3 (ipykernel)",
   "language": "python",
   "name": "python3"
  },
  "language_info": {
   "codemirror_mode": {
    "name": "ipython",
    "version": 3
   },
   "file_extension": ".py",
   "mimetype": "text/x-python",
   "name": "python",
   "nbconvert_exporter": "python",
   "pygments_lexer": "ipython3",
   "version": "3.12.4"
  }
 },
 "nbformat": 4,
 "nbformat_minor": 5
}
